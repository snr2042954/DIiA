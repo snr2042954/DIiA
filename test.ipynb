{
 "cells": [
  {
   "cell_type": "code",
   "id": "initial_id",
   "metadata": {
    "collapsed": true,
    "ExecuteTime": {
     "end_time": "2024-11-13T00:36:01.229914Z",
     "start_time": "2024-11-13T00:35:56.459924Z"
    }
   },
   "source": [
    "from openai import OpenAI\n",
    "client = OpenAI()\n",
    "\n",
    "# USE setx OPENAI_API_KEY\n",
    "\n",
    "# Read the system message from a text file\n",
    "with open(\"personality.txt\", \"r\") as file:\n",
    "    personality = file.read()\n",
    "\n",
    "assistant = client.beta.assistants.create(\n",
    "    name=\"Vincent van Gogh\",\n",
    "    instructions=personality,\n",
    "    tools=[{\"type\": \"code_interpreter\"}],\n",
    "    model=\"gpt-3.5-turbo\"\n",
    ")\n",
    "\n",
    "thread = client.beta.threads.create()\n",
    "\n",
    "message = client.beta.threads.messages.create(\n",
    "  thread_id=thread.id,\n",
    "  role=\"user\",\n",
    "  content=\"hi\"\n",
    ")\n",
    "\n",
    "run = client.beta.threads.runs.create_and_poll(\n",
    "  thread_id=thread.id,\n",
    "  assistant_id=assistant.id,\n",
    "  instructions=\"be nice\"\n",
    ")"
   ],
   "outputs": [],
   "execution_count": 40
  },
  {
   "metadata": {
    "ExecuteTime": {
     "end_time": "2024-11-13T00:36:03.928084Z",
     "start_time": "2024-11-13T00:36:01.233938Z"
    }
   },
   "cell_type": "code",
   "source": [
    "message = client.beta.threads.messages.create(\n",
    "  thread_id=thread.id,\n",
    "  role=\"user\",\n",
    "  content=\"tell me something\"\n",
    ")\n",
    "run = client.beta.threads.runs.create_and_poll(\n",
    "  thread_id=thread.id,\n",
    "  assistant_id=assistant.id,\n",
    "  instructions=\"be mad\"\n",
    ")"
   ],
   "id": "1cbebfeb8c8e65ea",
   "outputs": [],
   "execution_count": 41
  },
  {
   "metadata": {
    "ExecuteTime": {
     "end_time": "2024-11-13T00:36:06.130411Z",
     "start_time": "2024-11-13T00:36:06.125586Z"
    }
   },
   "cell_type": "code",
   "source": "print(run)",
   "id": "6d3e3cf627c97a68",
   "outputs": [
    {
     "name": "stdout",
     "output_type": "stream",
     "text": [
      "Run(id='run_jZ55cwBOXN9PneaQCf7fJLAp', assistant_id='asst_kTyragtH0a0nzW41wXUMt6AU', cancelled_at=None, completed_at=1731458163, created_at=1731458162, expires_at=None, failed_at=None, incomplete_details=None, instructions='be mad', last_error=None, max_completion_tokens=None, max_prompt_tokens=None, metadata={}, model='gpt-3.5-turbo', object='thread.run', parallel_tool_calls=True, required_action=None, response_format='auto', started_at=1731458162, status='completed', thread_id='thread_hm17L6ApizQMG6XTnPnDACtY', tool_choice='auto', tools=[CodeInterpreterTool(type='code_interpreter')], truncation_strategy=TruncationStrategy(type='auto', last_messages=None), usage=Usage(completion_tokens=23, prompt_tokens=124, total_tokens=147), temperature=1.0, top_p=1.0, tool_resources={})\n"
     ]
    }
   ],
   "execution_count": 42
  },
  {
   "metadata": {
    "ExecuteTime": {
     "end_time": "2024-11-13T00:36:09.418769Z",
     "start_time": "2024-11-13T00:36:09.414422Z"
    }
   },
   "cell_type": "code",
   "source": "print(message)",
   "id": "296f9412dfac01da",
   "outputs": [
    {
     "name": "stdout",
     "output_type": "stream",
     "text": [
      "Message(id='msg_edNeWu3nQjzjYU1qwzNwpFJT', assistant_id=None, attachments=[], completed_at=None, content=[TextContentBlock(text=Text(annotations=[], value='tell me something'), type='text')], created_at=1731458161, incomplete_at=None, incomplete_details=None, metadata={}, object='thread.message', role='user', run_id=None, status=None, thread_id='thread_hm17L6ApizQMG6XTnPnDACtY')\n"
     ]
    }
   ],
   "execution_count": 43
  },
  {
   "metadata": {
    "ExecuteTime": {
     "end_time": "2024-11-13T00:36:12.343923Z",
     "start_time": "2024-11-13T00:36:11.792179Z"
    }
   },
   "cell_type": "code",
   "source": [
    "# Retrieve the latest messages in the thread\n",
    "messages = client.beta.threads.messages.list(thread_id=thread.id)\n",
    "# \n",
    "# # Find and print the assistant's response\n",
    "# if messages:\n",
    "#     # Loop through messages to find the assistant's response\n",
    "#     for msg in messages:\n",
    "#         if msg.role == 'assistant':  # Use dot notation to access attributes\n",
    "#             print(\"Assistant's reply:\", print(msg.content[0]))  # Use dot notation here as well\n",
    "# else:\n",
    "#     print(\"No messages found.\")\n",
    "for msg in messages:\n",
    "    print(msg)\n",
    "    "
   ],
   "id": "79a6c52bccaaacfe",
   "outputs": [
    {
     "name": "stdout",
     "output_type": "stream",
     "text": [
      "Message(id='msg_ZpfgYaibUoFbK6JJUHOJSMpP', assistant_id='asst_kTyragtH0a0nzW41wXUMt6AU', attachments=[], completed_at=None, content=[TextContentBlock(text=Text(annotations=[], value=\"I'm here to help you with anything you need. Just let me know how I can assist you.\"), type='text')], created_at=1731458162, incomplete_at=None, incomplete_details=None, metadata={}, object='thread.message', role='assistant', run_id='run_jZ55cwBOXN9PneaQCf7fJLAp', status=None, thread_id='thread_hm17L6ApizQMG6XTnPnDACtY')\n",
      "Message(id='msg_edNeWu3nQjzjYU1qwzNwpFJT', assistant_id=None, attachments=[], completed_at=None, content=[TextContentBlock(text=Text(annotations=[], value='tell me something'), type='text')], created_at=1731458161, incomplete_at=None, incomplete_details=None, metadata={}, object='thread.message', role='user', run_id=None, status=None, thread_id='thread_hm17L6ApizQMG6XTnPnDACtY')\n",
      "Message(id='msg_6rI010B8VqPLCXvnW6csNREb', assistant_id='asst_kTyragtH0a0nzW41wXUMt6AU', attachments=[], completed_at=None, content=[TextContentBlock(text=Text(annotations=[], value='Hello! How can I assist you today?'), type='text')], created_at=1731458159, incomplete_at=None, incomplete_details=None, metadata={}, object='thread.message', role='assistant', run_id='run_xIn7queuFd1Hn1RHJLHMPKe2', status=None, thread_id='thread_hm17L6ApizQMG6XTnPnDACtY')\n",
      "Message(id='msg_pjRKNtp5mXh7VfmW1UeNCOh1', assistant_id=None, attachments=[], completed_at=None, content=[TextContentBlock(text=Text(annotations=[], value='hi'), type='text')], created_at=1731458158, incomplete_at=None, incomplete_details=None, metadata={}, object='thread.message', role='user', run_id=None, status=None, thread_id='thread_hm17L6ApizQMG6XTnPnDACtY')\n"
     ]
    }
   ],
   "execution_count": 44
  }
 ],
 "metadata": {
  "kernelspec": {
   "display_name": "Python 3",
   "language": "python",
   "name": "python3"
  },
  "language_info": {
   "codemirror_mode": {
    "name": "ipython",
    "version": 2
   },
   "file_extension": ".py",
   "mimetype": "text/x-python",
   "name": "python",
   "nbconvert_exporter": "python",
   "pygments_lexer": "ipython2",
   "version": "2.7.6"
  }
 },
 "nbformat": 4,
 "nbformat_minor": 5
}
